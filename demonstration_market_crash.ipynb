{
 "cells": [
  {
   "cell_type": "code",
   "execution_count": 2,
   "id": "2e00f869",
   "metadata": {},
   "outputs": [],
   "source": [
    "import torch\n",
    "import torch.nn as nn\n",
    "import torch.nn.functional as F\n",
    "import numpy as np\n",
    "import random\n",
    "import torch.optim as optim\n",
    "import matplotlib.pyplot as plt\n",
    "import pandas as pd\n",
    "from pathlib import Path"
   ]
  },
  {
   "cell_type": "code",
   "execution_count": 13,
   "id": "ef9ad134",
   "metadata": {},
   "outputs": [
    {
     "name": "stdout",
     "output_type": "stream",
     "text": [
      "reading data\n"
     ]
    }
   ],
   "source": [
    "## reading data\n",
    "## the data is pruned such that we only consider the stocks that existed across the whole 20-year period\n",
    "print(\"reading data\")\n",
    "\n",
    "\n",
    "data = pd.read_csv('./data/sp500.csv')\n",
    "\n",
    "symbol_list = list(np.load('./data/symbol_list.npy'))\n",
    "pruned_data = data[data['symbol'].isin(symbol_list)]\n",
    "\n",
    "X = torch.tensor(list(pruned_data['open'])).view(-1, len(symbol_list))\n",
    "RX = torch.log(X[1:] / X[:-1]) \n",
    "symbol_list = np.sort(symbol_list)\n",
    "\n",
    "\n",
    "## X is the raw data, RX is the price return\n",
    "X = torch.tensor(list(pruned_data['open'])).view(-1, len(symbol_list))\n",
    "RX = torch.log(X[1:] / X[:-1]) \n",
    "\n",
    "\n"
   ]
  },
  {
   "cell_type": "code",
   "execution_count": null,
   "id": "24d38ff4",
   "metadata": {},
   "outputs": [],
   "source": [
    "np.save('pruned_data.npy', pruned_data)"
   ]
  },
  {
   "cell_type": "code",
   "execution_count": 9,
   "id": "7577972c",
   "metadata": {},
   "outputs": [
    {
     "data": {
      "text/plain": [
       "array(['A', 'AAPL', 'ABC', 'ABT', 'ADBE', 'ADI', 'ADM', 'ADP', 'ADSK',\n",
       "       'AEE'], dtype='<U5')"
      ]
     },
     "execution_count": 9,
     "metadata": {},
     "output_type": "execute_result"
    }
   ],
   "source": [
    "symbol_list[:10]"
   ]
  },
  {
   "cell_type": "code",
   "execution_count": 11,
   "id": "2cb63b6d",
   "metadata": {},
   "outputs": [
    {
     "name": "stdout",
     "output_type": "stream",
     "text": [
      "230\n",
      "tensor([ 48.7848,  48.9708,  48.7290,  48.3662,  48.5987,  48.3941,  48.3754,\n",
      "         47.4917,  46.1241,  46.4218,  46.3102,  46.0683,  46.8963,  47.1103,\n",
      "         46.7009,  47.5195,  47.7056,  46.3381,  45.6776,  45.5101,  46.4311,\n",
      "         47.1847,  47.5661,  47.2870,  47.2405,  47.8359,  48.1242,  48.8406,\n",
      "         49.2499,  49.8267,  50.0872,  50.1895,  49.9569,  49.9663,  52.2362,\n",
      "         52.0781,  52.1711,  52.5338,  52.5804,  52.6641,  52.0966,  52.3385,\n",
      "         52.6548,  52.8874,  52.7292,  52.8408,  53.6316,  54.0083,  54.1154,\n",
      "         54.1060,  53.9851,  53.9851,  53.9666,  53.9303,  53.8648,  53.7524,\n",
      "         53.7618,  53.9210,  54.2018,  54.1082,  54.1830,  54.5575,  54.4639,\n",
      "         54.2767,  53.9678,  53.3686,  53.9865,  54.0894,  53.7992,  53.9490,\n",
      "         53.1627,  52.4232,  52.8912,  52.7882,  52.5635,  53.9490,  53.6120,\n",
      "         53.6869,  53.8367,  54.2205,  54.1737,  53.4342,  53.2937,  54.1831,\n",
      "         54.1175,  53.8928,  53.7384,  53.6120,  53.6308,  54.0520,  54.1550,\n",
      "         54.2111,  54.1924,  53.4622,  53.0785,  53.4716,  53.6963,  53.8554,\n",
      "         53.7992,  53.8273,  56.4298,  56.1115,  56.9633,  56.9259,  56.7387,\n",
      "         56.1771,  56.3175,  56.1395,  55.9992,  55.7277,  54.9038,  55.9617,\n",
      "         56.6825,  56.1677,  56.6170,  54.5107,  55.2502,  54.9660,  55.5408,\n",
      "         56.9261,  57.2748,  57.0109,  57.4633,  57.4915,  56.8225,  56.8602,\n",
      "         57.1523,  57.3502,  56.6434,  55.6728,  56.2571,  56.9449,  56.5491,\n",
      "         57.7648,  57.6517,  58.2548,  58.8956,  59.3667,  59.0841,  59.3196,\n",
      "         58.9521,  60.0169,  59.7719,  60.1583,  59.7908,  59.5646,  59.7437,\n",
      "         59.2348,  59.3290,  59.1689,  58.8767,  58.6034,  58.7071,  59.1406,\n",
      "         59.1123,  58.9992,  59.4232,  59.0086,  59.0651,  59.0558,  58.6506,\n",
      "         59.0557,  59.0840,  59.5552,  60.2619,  60.4222,  61.6189,  61.9016,\n",
      "         61.1195,  60.6436,  59.6023,  59.8379,  59.8379,  60.0640,  59.9038,\n",
      "         59.8567,  60.5447,  60.5352,  61.0620,  61.1474,  61.3749,  61.1189,\n",
      "         61.2517,  60.9862,  61.0715,  61.1758,  61.1853,  60.7492,  60.7966,\n",
      "         61.3275,  60.6638,  60.6449,  60.8534,  60.9198,  61.8015,  61.7256,\n",
      "         61.6308,  61.1758,  61.1947,  61.3844,  61.5360,  61.5360,  61.8015,\n",
      "         60.7871,  61.5645,  61.9626,  61.2705,  61.5835,  61.7351,  62.0195,\n",
      "         62.2375,  62.3893,  61.9911,  62.8537,  62.1902,  62.4272,  62.1996,\n",
      "         62.1902,  62.0195,  61.8962,  61.6593,  61.9342,  62.2376,  62.0575,\n",
      "         62.2565,  63.9724,  64.3706,  64.5412,  64.6076,  65.3281,  65.1100,\n",
      "         66.0865,  65.7737,  65.4419,  65.3186,  65.3849,  65.2807,  65.4039,\n",
      "         64.8067,  65.0437,  64.5982,  65.0469,  65.6761,  64.2557,  64.3510,\n",
      "         64.7227,  65.5140,  65.6570,  65.7523,  66.5437,  66.5341,  67.2396,\n",
      "         66.9632,  67.1538,  68.6125,  68.9271,  69.2464,  69.1272,  68.6744,\n",
      "         66.0193,  66.7534,  67.6018,  66.0384,  66.4769,  67.2110,  67.5160,\n",
      "         66.9345,  67.2491,  66.8202,  68.0690,  66.8392,  65.9812,  66.1433,\n",
      "         65.5712,  66.0956,  65.0707,  65.0850,  65.4950,  66.2196,  66.7343,\n",
      "         67.3922,  68.1643,  68.8698,  69.4037,  69.6802,  70.0710,  70.7193,\n",
      "         70.0234,  70.0997,  70.3570,  70.8719,  70.3189,  69.2798,  69.8804,\n",
      "         69.6897,  69.1654,  68.8221,  69.0224,  69.4037,  68.7269,  68.8794,\n",
      "         68.5456,  68.2692,  69.6515,  70.5305,  70.2909,  70.5209,  69.2654,\n",
      "         69.4571,  69.3421,  69.9267,  69.7158,  69.8308,  70.0225,  69.2463,\n",
      "         69.9747,  70.9523,  71.6040,  70.2909,  70.6743,  70.6167,  71.2397,\n",
      "         71.2206,  71.6519,  71.8148,  71.8819,  71.7190,  72.1023,  72.0832,\n",
      "         72.2174,  71.9873,  70.9139,  71.0097,  70.6072,  70.4922,  70.4826,\n",
      "         70.8660,  71.6039,  71.5657,  70.9235,  72.0928,  72.5240,  72.8116,\n",
      "         73.1566,  73.1854,  73.3100,  74.3642,  74.2013,  74.2492,  74.4409,\n",
      "         74.3450,  75.0639,  75.7060,  75.6197,  75.3131,  75.9073,  80.8623,\n",
      "         80.2202,  80.8527,  80.2010,  79.8848,  80.5844,  80.6994,  81.2457,\n",
      "         80.6419,  80.6132,  80.3064,  80.1818,  80.0286,  80.4047,  80.0483,\n",
      "         80.0676,  79.3740,  79.7015,  80.7515,  79.9616,  80.2506,  80.9826,\n",
      "         81.5992,  80.4432,  80.5299,  81.3197,  78.3529,  78.5552,  79.5089,\n",
      "         80.5588,  81.1945,  82.1771,  82.5913,  82.2927,  82.1290,  83.9206,\n",
      "         83.1789,  83.0344,  82.8899,  82.2638,  82.1771,  82.5046,  82.7455,\n",
      "         82.4854,  82.9622,  82.8947,  83.4101,  84.4408,  84.9609,  85.3944,\n",
      "         84.6334,  84.8936,  85.4138,  86.7912,  85.8086,  86.5022,  86.8298,\n",
      "         86.6948,  88.5251,  89.1512,  89.0693,  89.7003,  91.6461,  89.8737,\n",
      "         90.3072,  91.3089,  90.2012,  87.2343,  83.6991,  87.1669,  86.4155,\n",
      "         83.1307,  85.4763,  85.6642,  85.6539,  88.2668,  89.4668,  88.5233,\n",
      "         89.9797,  89.0797,  89.7571,  91.3538,  92.6506,  91.7797,  90.9571,\n",
      "         88.6248,  89.3603,  91.2958,  90.1539,  91.2281,  92.2151,  93.3861,\n",
      "         93.8699,  92.0506,  90.5120,  91.6248,  90.7152,  90.0474,  89.9313,\n",
      "         88.3200,  86.6119,  87.6862,  91.8764,  86.9216,  87.2701,  87.5507,\n",
      "         86.6846,  85.0153,  89.4522,  88.5377,  88.1023,  89.4087,  89.0410,\n",
      "         89.4474,  91.0152,  91.0345,  91.9345,  93.1151,  93.3281,  92.8151,\n",
      "         92.6541,  93.1365,  90.2894,  90.5313,  94.4506,  93.2216,  90.2023,\n",
      "         91.9248,  89.9603,  90.3087,  92.0990,  92.7529,  92.9119,  94.3151,\n",
      "         94.6442,  94.7602,  94.1022,  94.6257,  94.0425,  93.3136,  94.2758,\n",
      "         94.9366,  93.9940,  95.9523,  95.5393,  95.0922,  95.5490,  96.5015,\n",
      "         96.4915,  98.4161,  99.1353,  99.6019,  99.7671,  98.2533,  98.5230,\n",
      "         98.2606,  98.8633,  98.7951,  98.6591,  97.2013,  96.8514,  98.5230,\n",
      "         99.2082,  97.5900,  97.1915,  96.0447,  96.7833,  94.6451,  96.1516,\n",
      "         95.3448,  97.6580,  96.7056,  97.0798,  98.7906,  99.1354,  98.3092,\n",
      "         99.8838, 101.4388, 102.4398, 101.6720, 102.9647, 101.9831, 105.0446,\n",
      "        103.3146, 105.5208, 104.9231, 107.6299, 107.0856, 104.1796, 103.4993,\n",
      "        103.0522, 102.4398, 104.7724, 105.0835, 105.5111, 106.2595, 106.6288,\n",
      "        106.3470, 106.1721, 105.5111, 105.8544, 105.6691, 104.7518, 104.8983,\n",
      "        104.3226, 103.2786, 104.5470, 105.0543, 106.6155, 107.2692, 107.7668,\n",
      "        108.9572, 108.9719, 108.1571, 108.3132, 105.6203, 105.6007, 106.1959,\n",
      "        106.2544, 108.7230, 109.3963, 110.6061, 110.9281, 109.4646, 110.3037,\n",
      "        109.5523, 111.2306, 110.2841, 112.0112, 111.6892, 111.9916, 111.4160,\n",
      "        111.9624, 112.4990, 112.6161, 111.8258, 109.8939, 108.9474, 108.4401,\n",
      "        108.5376, 102.7907, 106.3618, 106.2643, 106.8790, 108.9669, 107.4253,\n",
      "        106.2837, 106.6642, 105.1519, 105.7764, 103.9616, 103.1225, 105.4788,\n",
      "        101.1418, 102.8737, 104.4494, 103.8932, 103.7859, 104.7714, 106.7813,\n",
      "        109.0840, 108.1571, 106.7619, 104.9373, 105.9361, 102.8883, 104.9365,\n",
      "        106.1027,  99.7622, 101.5262, 100.1248, 102.6924, 104.1427, 105.7304,\n",
      "        108.1215, 108.4841, 110.7381, 109.6992, 103.7018, 106.2105, 102.7021,\n",
      "        107.6021, 108.6703, 107.3865, 106.0832, 103.3000, 101.6732, 101.5752,\n",
      "        100.9872,  99.5956,  95.7247,  93.2356,  97.3122, 100.0465,  99.2624,\n",
      "         97.5572,  98.0963,  97.7238,  99.6054, 100.9774, 101.7810, 101.1538,\n",
      "        101.1244,  99.8602, 100.4580, 103.1530, 102.8982, 105.3089, 104.6132,\n",
      "        103.9957, 104.7210, 105.0933, 104.1330, 102.7806, 102.5258, 101.7222,\n",
      "        101.6977, 100.8108, 103.9369, 104.8582, 103.0795, 102.3004, 104.0742,\n",
      "        104.0153, 105.3481, 104.1819, 105.7499, 105.6323, 106.1547, 105.2099,\n",
      "        108.3100, 109.9930, 109.5010, 109.9242, 110.2686, 111.1052, 111.2331,\n",
      "        110.4753, 110.1013, 109.6387, 107.4341, 109.2352, 111.0362, 112.3255,\n",
      "        112.7291, 113.5164, 114.3333, 116.2229, 115.5341, 115.2831, 117.6107,\n",
      "        114.7172, 116.7446, 116.0113, 115.5832, 116.2032, 117.0694, 117.1777,\n",
      "        117.9649, 118.2012, 117.5024, 117.9158, 116.7545, 117.8666, 118.6343,\n",
      "        118.7327, 119.0279, 119.7168, 119.3232, 120.2582, 120.6813, 122.1380,\n",
      "        123.8013, 128.0037, 127.6494, 127.8462, 127.7577, 128.4663, 125.9566,\n",
      "        125.3464, 124.3917, 124.4606, 123.4568, 122.3249, 122.9351, 122.1478,\n",
      "        121.9116, 122.7418, 125.2014, 126.7374, 124.9742, 125.8731, 125.0730,\n",
      "        124.6582, 125.3594, 125.4286, 123.8481, 123.7296, 122.7122, 122.3368,\n",
      "        119.7983, 123.4234, 124.8952, 127.6116, 130.7823, 132.2443, 129.7946,\n",
      "        130.3675, 130.6441, 131.0096, 132.5506, 133.3506, 135.7707, 134.9113,\n",
      "        135.3261, 135.5731, 132.7086, 132.5011, 132.9258, 134.9607, 134.4569,\n",
      "        135.1286, 134.2791, 134.7335, 134.3384, 135.4546, 136.5115, 137.1536,\n",
      "        137.7364, 137.2622, 136.0176, 133.8939, 138.5068, 135.7312, 138.0525,\n",
      "        137.2029, 138.7143, 138.6550, 139.7712, 138.4278, 138.6155, 135.3262,\n",
      "        136.4029, 131.6714, 132.1653, 132.1554, 134.9311, 136.9165, 135.3954,\n",
      "        134.3878, 135.1564, 133.2038, 133.6895, 136.6382, 136.9901, 137.3271,\n",
      "        137.4361, 135.9789, 133.7986, 135.1862, 133.6895, 136.0386, 137.9218,\n",
      "        135.4043, 136.0881, 137.8822, 138.7941, 138.3579, 135.5925, 134.7105,\n",
      "        136.6333, 136.5639, 134.6311, 135.7511, 136.1476, 139.0617, 139.7654,\n",
      "        138.0011, 139.1211, 136.2864, 138.2093, 138.9129, 136.8315, 138.4273,\n",
      "        135.0474, 133.7588, 135.5430, 135.9295, 135.8701, 136.2467, 137.2677,\n",
      "        138.8832, 138.4571, 138.8238, 139.5473, 139.7059, 138.5265, 137.2280,\n",
      "        137.7435, 135.6719, 138.1597, 138.1102, 143.1254, 142.8083, 142.2532,\n",
      "        143.6211, 142.9867, 143.5517, 143.6904, 143.0958, 142.5704, 142.7092,\n",
      "        144.0572, 144.9889, 145.4448, 145.7224, 147.6155, 148.7454, 149.5483,\n",
      "        149.4911, 148.5861, 149.2525, 149.1828, 150.5354, 151.5001, 151.2714,\n",
      "        150.9830, 146.6865, 149.3220, 149.2325, 150.1674, 150.2470, 150.4658,\n",
      "        150.7145, 150.8239, 152.2765, 154.2650, 154.6032, 153.4594, 153.1610,\n",
      "        156.4928, 157.2586, 156.6221, 156.6928, 158.5813, 158.1204, 155.9160,\n",
      "        157.9150, 157.4575, 156.2242, 158.4520, 158.0642, 160.9534, 161.9365,\n",
      "        160.8788, 162.4998, 161.7341, 163.4546, 166.5080, 165.7719, 166.4880,\n",
      "        165.2846, 166.5974, 160.2721, 162.8878, 166.9257, 173.1018, 171.2718,\n",
      "        169.5015, 176.1749, 183.0274, 179.9841, 181.8489, 182.5799, 189.6114,\n",
      "        184.5690, 182.0826, 182.2517, 184.5939, 187.5449, 186.4379, 182.6683,\n",
      "        167.3104, 173.7228, 169.2451, 162.8726, 151.9925, 164.8572, 173.3238,\n",
      "        168.0235, 165.5901, 162.1646, 150.5864, 157.7268, 156.6999, 144.9020,\n",
      "        147.0959, 139.6165, 139.6165, 137.6220, 142.3789, 145.6000, 136.6347,\n",
      "        143.3562, 148.5020, 147.9934, 151.3343, 152.0224, 158.9634, 152.5809,\n",
      "        151.4440, 154.6751, 159.8809, 169.1277, 165.2161, 165.9043, 163.8998,\n",
      "        168.5371, 170.7310, 173.8225, 179.0082, 176.1461, 173.0247, 170.9205,\n",
      "        173.6330, 171.5886, 176.1062, 174.9749, 172.7454, 179.5069, 175.3184,\n",
      "        174.0120, 180.1252, 181.5812, 183.6654, 184.4730, 182.6482, 186.3880,\n",
      "        182.0499, 177.0537, 178.5694, 185.2412, 184.5232, 184.8100])\n"
     ]
    }
   ],
   "source": [
    "## sanity check: the stock price of MSFT\n",
    "\n",
    "print(list(np.sort(symbol_list)).index('MSFT'))\n",
    "k = 230\n",
    "print(X[:,k][-1000:])"
   ]
  },
  {
   "cell_type": "code",
   "execution_count": 16,
   "id": "703376f1",
   "metadata": {},
   "outputs": [],
   "source": [
    "## we use a simple neural network\n",
    "\n",
    "class Net(nn.Module):\n",
    "\n",
    "    def __init__(self,  p=0.2):\n",
    "        super(Net, self).__init__()\n",
    "        self.w = torch.nn.Linear(30, 64)\n",
    "        self.w1 = torch.nn.Linear(64, 64)\n",
    "        self.act = F.leaky_relu\n",
    "        self.w2 = torch.nn.Linear(64, 1)\n",
    "        self.d = nn.Dropout(p=p)\n",
    "    def forward(self, x):\n",
    "        #print(x.shape)\n",
    "        x = self.act(self.w(x))\n",
    "        x = self.act(self.w1(x))\n",
    "        x = self.d(x)\n",
    "\n",
    "        x = self.w2(x)\n",
    "\n",
    "        return torch.sigmoid(x)\n",
    "\n",
    "model = Net()"
   ]
  },
  {
   "cell_type": "code",
   "execution_count": 17,
   "id": "62514479",
   "metadata": {},
   "outputs": [],
   "source": [
    "\n",
    "## minibatch sampling, we implement the data augmentation of the input prices directly into the minibatch sampling part\n",
    "## though one might implement it in a more principled way\n",
    "\n",
    "S = 64\n",
    "sigma = 0.5\n",
    "def minibatch(datax, datay, sigma=0):\n",
    "  L = len(datax)\n",
    "  idx = torch.randint(L-1, (S,)).cuda()\n",
    "  x, y, r = datax[idx], datay[idx], RTNtrain[idx]\n",
    "  \n",
    "  if sigma>0:\n",
    "    #print(r.shape)\n",
    "    return x + (r.abs() ** 0.5) * (x) * torch.empty_like(x).normal_(0, sigma), y #+ (y.abs() ** 0.5) * torch.empty_like(y).normal_(0, sigma)\n",
    "\n",
    "  return x, y"
   ]
  },
  {
   "cell_type": "code",
   "execution_count": 22,
   "id": "87df6076",
   "metadata": {},
   "outputs": [],
   "source": [
    "## Note that the second part of the proposed method (an equivalent regularization) is implemented in this training loss\n",
    "def criterion(x, y, lbd, X, sigma):\n",
    "  \n",
    "  r = ((X[:, 10:] - X[:, 9:-1])/(X[:, 9:-1]))\n",
    "  return -(wealth_gain(x,y) -  (sigma ** 2) * lbd * (r.abs().mean(dim=1).unsqueeze(1)) *  (x **2)).mean()\n"
   ]
  },
  {
   "cell_type": "code",
   "execution_count": 23,
   "id": "d545e841",
   "metadata": {},
   "outputs": [],
   "source": [
    "## other useful functions\n",
    "\n",
    "\n",
    "## we allow a non-zero interest rate, though this result is not studied in the manuscript\n",
    "INTEREST = 0\n",
    "def sharpe(X):\n",
    "  X = np.array(X)\n",
    "  ri = (X[1:] / X[:-1]) -1\n",
    "  return ((ri).mean() - INTEREST)/(np.std(ri)) * np.sqrt(252)\n",
    "\n",
    "\n",
    "\n",
    "def wealth_gain(x, y):\n",
    "    return x * y  + (1 - x) * INTEREST\n",
    "\n",
    "\n",
    "\n",
    "def train(X,Y, criterion, f, opt, sigma, lbd, minibatch):\n",
    "  train_loss = 0\n",
    "  for itr in range(1):\n",
    "    x, y = minibatch(X, Y, sigma)\n",
    "    y_pred = f(x)\n",
    "    loss = criterion(y_pred, y, lbd, x, sigma)  \n",
    "    opt.zero_grad()  \n",
    "    loss.backward()\n",
    "    opt.step()\n",
    "  return 0 \n"
   ]
  },
  {
   "cell_type": "code",
   "execution_count": 25,
   "id": "60db588d",
   "metadata": {},
   "outputs": [
    {
     "name": "stdout",
     "output_type": "stream",
     "text": [
      "processing data\n"
     ]
    },
    {
     "name": "stderr",
     "output_type": "stream",
     "text": [
      "/tmp/ipykernel_20570/3669477374.py:11: UserWarning: To copy construct from a tensor, it is recommended to use sourceTensor.clone().detach() or sourceTensor.clone().detach().requires_grad_(True), rather than torch.tensor(sourceTensor).\n",
      "  prices = torch.tensor(prices).float()\n"
     ]
    },
    {
     "name": "stdout",
     "output_type": "stream",
     "text": [
      "training finished\n"
     ]
    }
   ],
   "source": [
    "wealth_trajs = []\n",
    "results = []\n",
    "\n",
    "## processing data\n",
    "print(\"processing data\")\n",
    "k = 230\n",
    "prices = X[:,k][-1000:] / X[:,k][-1000:].std()\n",
    "\n",
    "## we construct the portfolio based on the prices of the previous 30 days\n",
    "input_size = 30\n",
    "prices = torch.tensor(prices).float()\n",
    "fullX = torch.stack([prices[i-input_size: i] for i in range(input_size, len(prices))])\n",
    "fullX = fullX[:-1]#.transpose(0, 1)\n",
    "Y = ((prices[1:] - prices[:-1]) / prices[:-1])[input_size:]#.transpose(0, 1)\n",
    "fullRTN = ((prices[1:] - prices[:-1]) / prices[:-1])#.transpose(0, 1)\n",
    "fullRTN = torch.stack([fullRTN[i-input_size: i] for i in range(input_size, len(fullRTN))])#.transpose(2, 1).transpose(0, 1)\n",
    "fullX = fullX.cuda()\n",
    "Y = Y.cuda().unsqueeze(1)\n",
    "fullRTN = fullRTN.cuda()\n",
    "num_test = 2000\n",
    "Xtrain = fullX[:800]\n",
    "Ytrain = Y[:800]\n",
    "Xtest = fullX[800:]\n",
    "Ytest = Y[800:]\n",
    "RTNtrain = fullRTN[:800]\n",
    "meanout =  Ytrain.mean(dim=0)\n",
    "\n",
    "\n",
    "## training\n",
    "\n",
    "losses = []\n",
    "STEP = 5000\n",
    "sigma = 1\n",
    "\n",
    "f_aug = Net(p=0).cuda()\n",
    "optimizer = torch.optim.Adam(f_aug.parameters(), lr=1e-4, weight_decay=decay)\n",
    "ours_sigma =  1\n",
    "\n",
    "for i in range (STEP):\n",
    "  if False:\n",
    "    portfolio_train = f_aug(Xtrain).squeeze(1)\n",
    "    plt.plot(fullX[:800, -1].cpu() /20, label='price')\n",
    "    plt.plot(portfolio_train.detach().cpu(), label='portfolio')\n",
    "    plt.show()\n",
    "    plt.close()\n",
    "\n",
    "  loss2 = train(Xtrain,Ytrain,criterion,f_aug,optimizer, sigma= 0.5 *ours_sigma, lbd=1, minibatch=minibatch)\n",
    "\n",
    "\n",
    "## training finished\n",
    "print(\"training finished\")\n",
    "\n",
    "    \n",
    "\n"
   ]
  },
  {
   "cell_type": "code",
   "execution_count": 26,
   "id": "d511e5a0",
   "metadata": {},
   "outputs": [
    {
     "name": "stdout",
     "output_type": "stream",
     "text": [
      "average portfolio position:  0.7368746995925903\n",
      "results:  MSFT 2.34818943070356\n"
     ]
    },
    {
     "name": "stderr",
     "output_type": "stream",
     "text": [
      "/tmp/ipykernel_20570/1844912502.py:5: UserWarning: The use of `x.T` on tensors of dimension other than 2 to reverse their shape is deprecated and it will throw an error in a future release. Consider `x.mT` to transpose batches of matricesor `x.permute(*torch.arange(x.ndim - 1, -1, -1))` to reverse the dimensions of a tensor. (Triggered internally at  /opt/conda/conda-bld/pytorch_1656352616446/work/aten/src/ATen/native/TensorShape.cpp:2985.)\n",
      "  DeltaW = 1 + (wealth_gain(portfolio, Ytest.squeeze(1))).T.detach().cpu().numpy()\n"
     ]
    }
   ],
   "source": [
    "## testing\n",
    "model.eval()\n",
    "portfolio = f_aug(Xtest).squeeze(1)\n",
    "print(\"average portfolio position: \", portfolio.sum().item())\n",
    "DeltaW = 1 + (wealth_gain(portfolio, Ytest.squeeze(1))).T.detach().cpu().numpy() \n",
    "size = 2\n",
    "Wealth_trajectory = [np.ones(size-1)]\n",
    "for i in range(len(DeltaW)):\n",
    "  Wealth_trajectory.append(Wealth_trajectory[-1] * DeltaW[i])\n",
    "message = \"results,\" + symbol_list[k] + ',' + str(sharpe(Wealth_trajectory))  + '\\n'\n",
    "print(\"results: \", symbol_list[k], sharpe(Wealth_trajectory))"
   ]
  },
  {
   "cell_type": "code",
   "execution_count": 27,
   "id": "ac02a671",
   "metadata": {},
   "outputs": [
    {
     "data": {
      "text/plain": [
       "Text(0.5, 1.0, 'learned portfolio')"
      ]
     },
     "execution_count": 27,
     "metadata": {},
     "output_type": "execute_result"
    },
    {
     "data": {
      "image/png": "[encoded data removed]",
      "text/plain": [
       "<Figure size 273.6x216 with 1 Axes>"
      ]
     },
     "metadata": {
      "needs_background": "light"
     },
     "output_type": "display_data"
    }
   ],
   "source": [
    "plt.figure(figsize=(3.8, 3))\n",
    "\n",
    "plt.plot(portfolio.cpu().detach())\n",
    "plt.xlabel('time')\n",
    "plt.axvline(x=105, linestyle='--')\n",
    "plt.ylabel(r'$\\pi$')\n",
    "plt.title('learned portfolio')\n",
    "#plt.savefig(\"case_study_portfolio.png\", dpi=150, bbox_inches='tight')"
   ]
  },
  {
   "cell_type": "code",
   "execution_count": 29,
   "id": "44f0875e",
   "metadata": {},
   "outputs": [
    {
     "data": {
      "text/plain": [
       "Text(0.5, 1.0, 'stock')"
      ]
     },
     "execution_count": 29,
     "metadata": {},
     "output_type": "execute_result"
    },
    {
     "data": {
      "image/png": "[encoded data removed]",
      "text/plain": [
       "<Figure size 273.6x216 with 1 Axes>"
      ]
     },
     "metadata": {
      "needs_background": "light"
     },
     "output_type": "display_data"
    }
   ],
   "source": [
    "plt.figure(figsize=(3.8, 3))\n",
    "\n",
    "plt.plot((prices[830:] * X[:,k][-1000:].std()).cpu().detach())\n",
    "plt.axvline(x=105, linestyle='--')\n",
    "\n",
    "plt.ylabel('price of stock ($)')\n",
    "plt.xlabel('time')\n",
    "plt.title('stock')\n",
    "#plt.savefig(\"case_study_price.png\", dpi=150, bbox_inches='tight')\n",
    "\n"
   ]
  },
  {
   "cell_type": "code",
   "execution_count": null,
   "id": "bd2f5e48",
   "metadata": {},
   "outputs": [],
   "source": []
  }
 ],
 "metadata": {
  "kernelspec": {
   "display_name": "Python 3 (ipykernel)",
   "language": "python",
   "name": "python3"
  },
  "language_info": {
   "codemirror_mode": {
    "name": "ipython",
    "version": 3
   },
   "file_extension": ".py",
   "mimetype": "text/x-python",
   "name": "python",
   "nbconvert_exporter": "python",
   "pygments_lexer": "ipython3",
   "version": "3.9.12"
  }
 },
 "nbformat": 4,
 "nbformat_minor": 5
}
